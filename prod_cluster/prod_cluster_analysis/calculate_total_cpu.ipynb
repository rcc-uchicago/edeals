{
 "cells": [
  {
   "cell_type": "code",
   "execution_count": 1,
   "metadata": {
    "collapsed": true
   },
   "outputs": [],
   "source": [
    "%matplotlib inline\n",
    "import pandas as pd\n",
    "from matplotlib import pyplot as plt\n",
    "from matplotlib import dates as mdates\n",
    "import numpy as np"
   ]
  },
  {
   "cell_type": "code",
   "execution_count": 2,
   "metadata": {
    "collapsed": true
   },
   "outputs": [],
   "source": [
    "gang = pd.read_csv('../data/data_big_sep2015/gang_data.csv')\n",
    "gang['Timestamp']=pd.to_datetime([val.rsplit('-',1)[0] for val in gang['Timestamp']])\n",
    "slurm = pd.read_csv('../data/data_big_sep2015/slurm_data.csv',error_bad_lines=True,header=None)\n",
    "slurm[1]=pd.to_datetime(slurm[1])\n",
    "slurm[2]=pd.to_datetime(slurm[2])\n",
    "slurm[3]=pd.to_timedelta(slurm[3],coerce=True)"
   ]
  },
  {
   "cell_type": "code",
   "execution_count": null,
   "metadata": {
    "collapsed": false
   },
   "outputs": [],
   "source": [
    "strt = 33\n",
    "todo = 700\n",
    "sm = [];\n",
    "bg = [];\n",
    "n = 0\n",
    "dt = (gang['Timestamp'][1]-gang['Timestamp'][0]).seconds\n",
    "T = (gang['Timestamp'].irow(-1)-gang['Timestamp'][0]).seconds\n",
    "for index in range(strt,strt+todo):\n",
    "    \n",
    "    pick = 'midway'+str(index).zfill(3)\n",
    "    sub = pick+'|Timestamp'  \n",
    "    subgang = gang.filter(regex=sub)\n",
    "    subgang.columns=[\"\".join(col.lstrip(pick).split()) for col in subgang.columns]\n",
    "    subslurm = slurm[slurm[0]==pick]\n",
    "    \n",
    "    if('domain_a_avgpwr' in subgang):\n",
    "        bg.append( dt*(subgang['cpu_user'].sum()+subgang['cpu_system'].sum())/100.)\n",
    "        tt = (subslurm[2]-subslurm[1]).sum()\n",
    "        if(tt is not pd.NaT):\n",
    "            sm .append( tt.seconds)\n",
    "            n = n+1\n",
    "s = np.array(sm)\n",
    "b = np.array(bg)"
   ]
  },
  {
   "cell_type": "code",
   "execution_count": 53,
   "metadata": {
    "collapsed": false
   },
   "outputs": [
    {
     "data": {
      "text/plain": [
       "(array([ 13.,   4.,   2.,   5.,   4.,   4.,   1.,  12.,  30.,  54.,  88.,\n",
       "         61.,  49.,  30.,  28.,  34.,  21.,  15.,  34.,   9.]),\n",
       " array([  4.35063599e-02,   3.51243026e+01,   7.02050988e+01,\n",
       "          1.05285895e+02,   1.40366691e+02,   1.75447487e+02,\n",
       "          2.10528284e+02,   2.45609080e+02,   2.80689876e+02,\n",
       "          3.15770672e+02,   3.50851468e+02,   3.85932265e+02,\n",
       "          4.21013061e+02,   4.56093857e+02,   4.91174653e+02,\n",
       "          5.26255449e+02,   5.61336246e+02,   5.96417042e+02,\n",
       "          6.31497838e+02,   6.66578634e+02,   7.01659431e+02]),\n",
       " <a list of 20 Patch objects>)"
      ]
     },
     "execution_count": 53,
     "metadata": {},
     "output_type": "execute_result"
    },
    {
     "data": {
      "image/png": "[encoded data removed]",
      "text/plain": [
       "<matplotlib.figure.Figure at 0x7f54a70ee610>"
      ]
     },
     "metadata": {},
     "output_type": "display_data"
    }
   ],
   "source": [
    "plt.hist(b/60./60.,20)"
   ]
  },
  {
   "cell_type": "code",
   "execution_count": 60,
   "metadata": {
    "collapsed": false
   },
   "outputs": [
    {
     "data": {
      "text/plain": [
       "0.58111485036871158"
      ]
     },
     "execution_count": 60,
     "metadata": {},
     "output_type": "execute_result"
    }
   ],
   "source": [
    "np.sum(b)/60./60./n/24./30."
   ]
  }
 ],
 "metadata": {
  "kernelspec": {
   "display_name": "Python 2",
   "language": "python",
   "name": "python2"
  },
  "language_info": {
   "codemirror_mode": {
    "name": "ipython",
    "version": 2
   },
   "file_extension": ".py",
   "mimetype": "text/x-python",
   "name": "python",
   "nbconvert_exporter": "python",
   "pygments_lexer": "ipython2",
   "version": "2.7.9"
  }
 },
 "nbformat": 4,
 "nbformat_minor": 0
}
