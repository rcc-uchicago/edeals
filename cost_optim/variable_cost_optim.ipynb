{
 "cells": [
  {
   "cell_type": "code",
   "execution_count": 1,
   "metadata": {
    "collapsed": true
   },
   "outputs": [],
   "source": [
    "%matplotlib inline\n",
    "import numpy as np\n",
    "from scipy.optimize import minimize\n",
    "from matplotlib import pyplot as plt"
   ]
  },
  {
   "cell_type": "code",
   "execution_count": 2,
   "metadata": {
    "collapsed": true
   },
   "outputs": [],
   "source": [
    "def costfun(n,dt,p,p0):\n",
    "    d = np.append(np.diff(n), n[0]-n[-1]);\n",
    "    return dt*np.sum(p*n)+p0*np.sum(p*d*(d>0));"
   ]
  },
  {
   "cell_type": "code",
   "execution_count": 3,
   "metadata": {
    "collapsed": true
   },
   "outputs": [],
   "source": [
    "cl1 = (0.22,0.42,0.69)\n",
    "cl2 = (0.85,0.49,0.19)"
   ]
  },
  {
   "cell_type": "code",
   "execution_count": 4,
   "metadata": {
    "collapsed": true
   },
   "outputs": [],
   "source": [
    "T = 24 #number of hours to model\n",
    "dt = 1\n",
    "t = np.arange(0,T,dt)\n",
    "\n",
    "p_n = 1 # maximum number of running nodes\n",
    "\n",
    "pf = 0.02  # baseline cost ($/CPU hour)\n",
    "p0 = 0.25 # time wasted in powering on a node (hour/node powered on)\n",
    "ps = 0.00001 # long term price trend (d($/CPU hour)/d(hour))\n",
    "  \n",
    "fs = [0.75, 0.5, 0.25] # percent of maximum load needed \n",
    "pvs = [0.01, 0.005, 0.001] # size of daily price fluctuation ($/hour)"
   ]
  },
  {
   "cell_type": "code",
   "execution_count": 5,
   "metadata": {
    "collapsed": false
   },
   "outputs": [
    {
     "ename": "NameError",
     "evalue": "name 'nm' is not defined",
     "output_type": "error",
     "traceback": [
      "\u001b[1;31m---------------------------------------------------------------------------\u001b[0m",
      "\u001b[1;31mNameError\u001b[0m                                 Traceback (most recent call last)",
      "\u001b[1;32m<ipython-input-5-9ee46b2a19cf>\u001b[0m in \u001b[0;36m<module>\u001b[1;34m()\u001b[0m\n\u001b[0;32m      4\u001b[0m \u001b[1;32mfor\u001b[0m \u001b[0mf\u001b[0m \u001b[1;32min\u001b[0m \u001b[0mfs\u001b[0m\u001b[1;33m:\u001b[0m\u001b[1;33m\u001b[0m\u001b[0m\n\u001b[0;32m      5\u001b[0m     \u001b[1;32mfor\u001b[0m \u001b[0mpv\u001b[0m \u001b[1;32min\u001b[0m \u001b[0mpvs\u001b[0m\u001b[1;33m:\u001b[0m\u001b[1;33m\u001b[0m\u001b[0m\n\u001b[1;32m----> 6\u001b[1;33m         \u001b[0mN\u001b[0m \u001b[1;33m=\u001b[0m \u001b[0mf\u001b[0m\u001b[1;33m*\u001b[0m\u001b[0mT\u001b[0m\u001b[1;33m*\u001b[0m\u001b[0mnm\u001b[0m \u001b[1;31m# Total amount of node runtime needed\u001b[0m\u001b[1;33m\u001b[0m\u001b[0m\n\u001b[0m\u001b[0;32m      7\u001b[0m         \u001b[0mp\u001b[0m \u001b[1;33m=\u001b[0m \u001b[0mpf\u001b[0m \u001b[1;33m+\u001b[0m \u001b[0mpv\u001b[0m\u001b[1;33m*\u001b[0m\u001b[0mnp\u001b[0m\u001b[1;33m.\u001b[0m\u001b[0msin\u001b[0m\u001b[1;33m(\u001b[0m\u001b[1;36m2\u001b[0m\u001b[1;33m*\u001b[0m\u001b[0mnp\u001b[0m\u001b[1;33m.\u001b[0m\u001b[0mpi\u001b[0m\u001b[1;33m*\u001b[0m\u001b[0mt\u001b[0m\u001b[1;33m/\u001b[0m\u001b[1;36m24\u001b[0m\u001b[1;33m)\u001b[0m \u001b[1;33m+\u001b[0m\u001b[0mps\u001b[0m\u001b[1;33m*\u001b[0m\u001b[0mt\u001b[0m \u001b[1;31m# variable price function\u001b[0m\u001b[1;33m\u001b[0m\u001b[0m\n\u001b[0;32m      8\u001b[0m         \u001b[0mstop\u001b[0m\u001b[1;33m.\u001b[0m\u001b[0mappend\u001b[0m\u001b[1;33m(\u001b[0m\u001b[0mp\u001b[0m\u001b[1;33m)\u001b[0m\u001b[1;33m\u001b[0m\u001b[0m\n",
      "\u001b[1;31mNameError\u001b[0m: name 'nm' is not defined"
     ]
    }
   ],
   "source": [
    "ston = []\n",
    "stop = []\n",
    "ind = 1\n",
    "for f in fs:\n",
    "    for pv in pvs:\n",
    "        N = f*T*nm # Total amount of node runtime needed\n",
    "        p = pf + pv*np.sin(2*np.pi*t/24) +ps*t # variable price function\n",
    "        stop.append(p)\n",
    "        \n",
    "        n0 = np.ones(np.size(p)) #initial guess for solution\n",
    "        \n",
    "        #Constrain the total usage to be equal to whatever is need\n",
    "        cons = ({'type': 'eq', 'fun': lambda x:  N - dt*sum(x)})\n",
    "        \n",
    "        #Require that no more than the max nodes (nm) are ever running at once\n",
    "        bnds = tuple((0,nm) for x in n0)\n",
    "        \n",
    "        ex = (dt,p,p0)\n",
    "        opt = {'disp': False, 'iprint': 1, 'eps': 1.4901161193847656e-08, 'maxiter': 100000, 'ftol': 1e-08}\n",
    "        res = minimize(costfun, n0, args=ex, method='SLSQP', bounds=bnds ,constraints=cons,options=opt)\n",
    "        print \"Success? \"+str(res.success)\n",
    "        ston.append(res.x)\n",
    "        ind = ind+1\n"
   ]
  },
  {
   "cell_type": "code",
   "execution_count": null,
   "metadata": {
    "collapsed": false
   },
   "outputs": [],
   "source": [
    "ind = 1\n",
    "nN = len(fs);\n",
    "nP = len(pvs)   \n",
    "fig = plt.figure(figsize=(10,10))\n",
    "for f in fs:\n",
    "    for pv in pvs:\n",
    "        N = f*T*nm # Total amount of node runtime needed\n",
    "        p = stop[ind-1] # variable price function\n",
    "        n = ston[ind-1]\n",
    "        \n",
    "        ax1 = plt.subplot(nN,nP,ind)\n",
    "\n",
    "        if(ind<=nP):\n",
    "            ax1.set_title(\"pv = \"+str(pv), loc=\"center\")\n",
    "        \n",
    "        ax1.plot(t/24., p, color=cl1)\n",
    "        ax1.set_ylim([0,np.max(pvs)+pf+ps*T])\n",
    "        ax1.set_xlabel('day')\n",
    "        if(ind%nP==1):\n",
    "            ax1.set_title(\"N/T = \"+str(N/T), loc=\"right\",x=-0.3,y=0.6,rotation=\"vertical\")\n",
    "            # Make the y-axis label and tick labels match the line color.\n",
    "            ax1.set_ylabel('price', color=cl1)\n",
    "            for tl in ax1.get_yticklabels():\n",
    "                tl.set_color(cl1)\n",
    "        else:\n",
    "            ax1.get_yaxis().set_ticks([])\n",
    "        \n",
    "        ax2 = ax1.twinx()\n",
    "        ax2.plot(t/24., n, color=cl2)\n",
    "        ax2.set_ylim([0,550])\n",
    "            \n",
    "        if(ind%nP==0):\n",
    "            ax2.set_ylabel('running nodes', color=cl2)\n",
    "            for tl in ax2.get_yticklabels():\n",
    "                tl.set_color(cl2)\n",
    "        else:\n",
    "            ax2.get_yaxis().set_ticks([])\n",
    "        ind = ind+1\n",
    "plt.suptitle(\"Optimization of running nodes with different demands (N) and price fluctuations (pv)\")"
   ]
  },
  {
   "cell_type": "code",
   "execution_count": null,
   "metadata": {
    "collapsed": true
   },
   "outputs": [],
   "source": []
  }
 ],
 "metadata": {
  "kernelspec": {
   "display_name": "Python 2",
   "language": "python",
   "name": "python2"
  },
  "language_info": {
   "codemirror_mode": {
    "name": "ipython",
    "version": 2
   },
   "file_extension": ".py",
   "mimetype": "text/x-python",
   "name": "python",
   "nbconvert_exporter": "python",
   "pygments_lexer": "ipython2",
   "version": "2.7.9"
  }
 },
 "nbformat": 4,
 "nbformat_minor": 0
}
