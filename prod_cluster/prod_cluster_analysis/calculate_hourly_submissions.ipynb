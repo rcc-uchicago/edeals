{
 "cells": [
  {
   "cell_type": "code",
   "execution_count": 1,
   "metadata": {
    "collapsed": true
   },
   "outputs": [],
   "source": [
    "%matplotlib inline\n",
    "import pandas as pd\n",
    "from matplotlib import pyplot as plt\n",
    "from matplotlib import dates as mdates\n",
    "import numpy as np"
   ]
  },
  {
   "cell_type": "code",
   "execution_count": 2,
   "metadata": {
    "collapsed": true
   },
   "outputs": [],
   "source": [
    "gang = pd.read_csv('../data/data_big_sep2015/gang_data.csv')\n",
    "gang['Timestamp']=pd.to_datetime([val.rsplit('-',1)[0] for val in gang['Timestamp']])\n",
    "slurm = pd.read_csv('../data/data_big_sep2015/slurm_data.csv',error_bad_lines=True,header=None)\n",
    "slurm[1]=pd.to_datetime(slurm[1])\n",
    "slurm[2]=pd.to_datetime(slurm[2])\n",
    "slurm[3]=pd.to_timedelta(slurm[3],coerce=True)"
   ]
  },
  {
   "cell_type": "code",
   "execution_count": 29,
   "metadata": {
    "collapsed": false
   },
   "outputs": [],
   "source": [
    "strt = 33\n",
    "todo = 700\n",
    "sm = [];\n",
    "n = 0\n",
    "for index in range(strt,strt+todo):\n",
    "    \n",
    "    pick = 'midway'+str(index).zfill(3)\n",
    "    sub = pick+'|Timestamp'  \n",
    "    subgang = gang.filter(regex=sub)\n",
    "    subgang.columns=[\"\".join(col.lstrip(pick).split()) for col in subgang.columns]\n",
    "    subslurm = slurm[slurm[0]==pick]\n",
    "    \n",
    "    if('domain_a_avgpwr' in subgang):\n",
    "        tt = subslurm[1].dt.hour\n",
    "        sm .extend( list(tt.values))\n",
    "        n = n+1\n",
    "s = np.array(sm)\n"
   ]
  },
  {
   "cell_type": "code",
   "execution_count": 30,
   "metadata": {
    "collapsed": false
   },
   "outputs": [
    {
     "data": {
      "text/plain": [
       "(array([ 10868.,   8456.,   7216.,   6030.,   4201.,   3708.,   4348.,\n",
       "          4791.,   7313.,   7533.,  10125.,  11984.,  13534.,  13691.,\n",
       "         16311.,  18256.,  19274.,  16569.,  13196.,  13747.,  15270.,\n",
       "         11590.,  13231.,  14368.]),\n",
       " array([  0.        ,   0.95833333,   1.91666667,   2.875     ,\n",
       "          3.83333333,   4.79166667,   5.75      ,   6.70833333,\n",
       "          7.66666667,   8.625     ,   9.58333333,  10.54166667,\n",
       "         11.5       ,  12.45833333,  13.41666667,  14.375     ,\n",
       "         15.33333333,  16.29166667,  17.25      ,  18.20833333,\n",
       "         19.16666667,  20.125     ,  21.08333333,  22.04166667,  23.        ]),\n",
       " <a list of 24 Patch objects>)"
      ]
     },
     "execution_count": 30,
     "metadata": {},
     "output_type": "execute_result"
    },
    {
     "data": {
      "image/png": "[encoded data removed]",
      "text/plain": [
       "<matplotlib.figure.Figure at 0x7f703b2a1d90>"
      ]
     },
     "metadata": {},
     "output_type": "display_data"
    }
   ],
   "source": [
    "plt.hist(s,24)"
   ]
  },
  {
   "cell_type": "code",
   "execution_count": null,
   "metadata": {
    "collapsed": true
   },
   "outputs": [],
   "source": []
  }
 ],
 "metadata": {
  "kernelspec": {
   "display_name": "Python 2",
   "language": "python",
   "name": "python2"
  },
  "language_info": {
   "codemirror_mode": {
    "name": "ipython",
    "version": 2
   },
   "file_extension": ".py",
   "mimetype": "text/x-python",
   "name": "python",
   "nbconvert_exporter": "python",
   "pygments_lexer": "ipython2",
   "version": "2.7.9"
  }
 },
 "nbformat": 4,
 "nbformat_minor": 0
}
