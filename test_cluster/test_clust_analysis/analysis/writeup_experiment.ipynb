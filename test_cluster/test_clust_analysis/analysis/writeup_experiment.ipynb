{
 "cells": [
  {
   "cell_type": "markdown",
   "metadata": {},
   "source": [
    "# Cluster energy savings experiments\n",
    "\n",
    "To test whether the value of our energy optimization schemes holds up in reality, we launched a series of sample tests on a 6 machine test cluster.  We wished to compare the energy savings and user wait times during a full or partial cluster shutdown in the response of a price spike.  We used only built-in SLURM scheduler commands to control the idle and power states of individual machines in the test cluster."
   ]
  },
  {
   "cell_type": "markdown",
   "metadata": {},
   "source": [
    "## Experimental setup\n",
    "\n",
    "We measured the total energy use over a 3 hour window, after a 45 minute partial cluster shutdown.  We compared this to the energy usage without the partial shutdown.\n",
    "\n",
    "We explored the impact of shutting down between one and all six nodes during the 45 minute window.  The shutdown was carried out by either setting nodes to an idle state or fully powering nodes off.\n",
    "\n",
    "Jobs running on the cluster were submitted to SLURM at a constant rate to simulate a cluster running at approximately 60%, 65%, 70% and 75% capacity. We then measured the change in the average wait time between job sumbission and job start."
   ]
  },
  {
   "cell_type": "markdown",
   "metadata": {},
   "source": [
    "## Results\n",
    "\n",
    "We found that the energy and savings and wait times closely resembled the estimates from our model, except that the SLURM scheduler produced additional wait-time overhead, which increased wait-times slightly.  \n",
    "\n",
    "Our results also provided us with valuable insights into the energy usage parameters in our model, $u_0$, $u_v$, $u_w$.  Given these parameters and both the unit price of machines and the magnitude and timing of energy price spikes over the past year, we can conclude that our datacenter would actually see a reduced total operating cost by purchasing N __ more __ machines, and powering down nearly the whole cluster during peak pricing.\n",
    "\n",
    "We further calculate that under these circumstances, it would only take X hours before user wait times returned to normal.  This further justifies the benefits of keeping an over-capactiy datacenter for non-critical HPC activity."
   ]
  },
  {
   "cell_type": "code",
   "execution_count": null,
   "metadata": {
    "collapsed": true
   },
   "outputs": [],
   "source": []
  }
 ],
 "metadata": {
  "kernelspec": {
   "display_name": "Python 2",
   "language": "python",
   "name": "python2"
  },
  "language_info": {
   "codemirror_mode": {
    "name": "ipython",
    "version": 2
   },
   "file_extension": ".py",
   "mimetype": "text/x-python",
   "name": "python",
   "nbconvert_exporter": "python",
   "pygments_lexer": "ipython2",
   "version": "2.7.9"
  }
 },
 "nbformat": 4,
 "nbformat_minor": 0
}
