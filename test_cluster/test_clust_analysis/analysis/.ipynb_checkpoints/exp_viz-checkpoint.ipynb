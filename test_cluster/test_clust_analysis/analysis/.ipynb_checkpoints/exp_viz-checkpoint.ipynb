{
 "cells": [
  {
   "cell_type": "code",
   "execution_count": 1,
   "metadata": {
    "collapsed": false
   },
   "outputs": [],
   "source": [
    "%matplotlib inline\n",
    "import pandas as pd\n",
    "from matplotlib import pyplot as plt\n",
    "import numpy as np\n",
    "import random\n",
    "plt.style.use('willo')"
   ]
  },
  {
   "cell_type": "code",
   "execution_count": 3,
   "metadata": {
    "collapsed": false
   },
   "outputs": [
    {
     "ename": "SyntaxError",
     "evalue": "invalid syntax (<ipython-input-3-675b14ca38bf>, line 62)",
     "output_type": "error",
     "traceback": [
      "\u001b[1;36m  File \u001b[1;32m\"<ipython-input-3-675b14ca38bf>\"\u001b[1;36m, line \u001b[1;32m62\u001b[0m\n\u001b[1;33m    if(noff==0 or noff==4)\u001b[0m\n\u001b[1;37m                          ^\u001b[0m\n\u001b[1;31mSyntaxError\u001b[0m\u001b[1;31m:\u001b[0m invalid syntax\n"
     ]
    }
   ],
   "source": [
    "strux = pd.read_csv('../../data/data_exp_strux/strux.csv',thousands=',')\n",
    "strux['Time']=pd.to_datetime(strux['Time'])\n",
    "\n",
    "noffs = range(7)\n",
    "offsets = [ pd.Timedelta('0 hours')]\n",
    "fig = plt.figure(figsize=(6, 4))\n",
    "        \n",
    "for t_offset in offsets:\n",
    "    for noff in noffs:\n",
    "        gang = pd.read_csv('../../data/data_exp_'+str(noff)+'/gang_data.csv')\n",
    "        gang['Timestamp']=pd.to_datetime([val.rsplit('-',1)[0] for val in gang['Timestamp']])\n",
    "        \n",
    "        t_str = gang['Timestamp'].iloc[0]+ t_offset\n",
    "        t_end = gang['Timestamp'].iloc[0]+pd.Timedelta('4 hours') + t_offset\n",
    "        \n",
    "        gang = gang[(gang['Timestamp']>t_str) & (gang['Timestamp']<t_end)]        \n",
    "        \n",
    "        substrux = strux[(strux['Time']>t_str) & (strux['Time']<t_end)]\n",
    "        \n",
    "        slurm = pd.read_csv('../../data/data_exp_'+str(noff)+'/slurm_data.csv',header=None)\n",
    "        slurm[1]=pd.to_datetime(slurm[1])\n",
    "        slurm[2]=pd.to_datetime(slurm[2])\n",
    "        slurm[21]=pd.to_timedelta(slurm[21])\n",
    "\n",
    "        fig.gca().plot((substrux['Time']-substrux['Time'].iloc[0]).dt.seconds/3600.,substrux['Value']/1000.,label=str(100*noff/6)+'%')\n",
    "        \n",
    "        \n",
    "        strt = 5\n",
    "        todo = 6    \n",
    "        ind = 0;\n",
    "        f, ax = plt.subplots(todo, sharex=True, sharey=True, figsize=(6, 3))\n",
    "        for index in range(strt,strt+todo):\n",
    "            co = next(ax[0]._get_lines.color_cycle)\n",
    "            pick = 'midway'+str(index).zfill(3)\n",
    "            sub = pick+'|Timestamp'  \n",
    "            subgang = gang.filter(regex=sub)\n",
    "            subgang.columns=[\"\".join(col.lstrip(pick).split()) for col in subgang.columns]\n",
    "            \n",
    "            subslurm = slurm[(slurm[0]==pick) & (slurm[1]>t_str) & (slurm[1]<t_end)]\n",
    "\n",
    "            if('domain_avg_power' in subgang):\n",
    "                for k in subslurm.iterrows():\n",
    "                    v = random.random() \n",
    "                    ax[ind].plot([(k[1][1]-t_str+pd.Timedelta('3 minutes')).seconds/3600.,(k[1][2]-t_str+pd.Timedelta('3 minutes')).seconds/3600.],[v,v],linewidth=np.log(1+k[1][8])*2)\n",
    "                ax[ind].set_xlim([0, 4])\n",
    "                ax[ind].set_ylabel(str(index-strt+1))\n",
    "                ind = ind+1\n",
    "        \n",
    "        #plt.plot(ts,dt)\n",
    "        f.subplots_adjust(hspace=0)\n",
    "        plt.setp([a.get_xticklabels() for a in f.axes[:-1]], visible=False)\n",
    "        plt.setp([a.get_yticklabels() for a in f.axes], visible=False)\n",
    "        plt.tick_params(\n",
    "            axis='y',          # changes apply to the x-axis\n",
    "            which='both',      # both major and minor ticks are affected\n",
    "            bottom='off',      # ticks along the bottom edge are off\n",
    "            top='off',         # ticks along the top edge are off\n",
    "            labelbottom='off') # labels along the bottom edge are off\n",
    "        f.text(0.06, 0.5, 'Node', ha='center', va='center', rotation='vertical')\n",
    "        plt.xlabel('Time (hr)')\n",
    "        plt.gcf().subplots_adjust(bottom=0.17)\n",
    "        if(noff==0 or noff==4):\n",
    "            f.savefig(\"../figures/usage_viz\"+str(noff)+\".pdf\", format='pdf', dpi=1000)\n",
    "plt.figure(1)\n",
    "plt.ylim([0, 1.4])\n",
    "plt.ylabel('Total Power Draw (kW)')\n",
    "plt.xlabel('Time (hr)')\n",
    "plt.legend(loc=4,ncol=2,title='fraction shutdown')\n",
    "fig.savefig(\"../figures/power_viz.pdf\", format='pdf', dpi=1000)"
   ]
  },
  {
   "cell_type": "code",
   "execution_count": null,
   "metadata": {
    "collapsed": true
   },
   "outputs": [],
   "source": []
  }
 ],
 "metadata": {
  "kernelspec": {
   "display_name": "Python 2",
   "language": "python",
   "name": "python2"
  },
  "language_info": {
   "codemirror_mode": {
    "name": "ipython",
    "version": 2
   },
   "file_extension": ".py",
   "mimetype": "text/x-python",
   "name": "python",
   "nbconvert_exporter": "python",
   "pygments_lexer": "ipython2",
   "version": "2.7.9"
  }
 },
 "nbformat": 4,
 "nbformat_minor": 0
}
